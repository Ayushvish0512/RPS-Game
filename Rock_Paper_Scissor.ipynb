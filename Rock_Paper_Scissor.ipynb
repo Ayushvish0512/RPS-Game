{
  "nbformat": 4,
  "nbformat_minor": 0,
  "metadata": {
    "colab": {
      "provenance": [],
      "include_colab_link": true
    },
    "kernelspec": {
      "name": "python3",
      "display_name": "Python 3"
    },
    "language_info": {
      "name": "python"
    }
  },
  "cells": [
    {
      "cell_type": "markdown",
      "metadata": {
        "id": "view-in-github",
        "colab_type": "text"
      },
      "source": [
        "<a href=\"https://colab.research.google.com/github/Ayushvish0512/RPS-Game/blob/main/Rock_Paper_Scissor.ipynb\" target=\"_parent\"><img src=\"https://colab.research.google.com/assets/colab-badge.svg\" alt=\"Open In Colab\"/></a>"
      ]
    },
    {
      "cell_type": "code",
      "source": [],
      "metadata": {
        "id": "fa4eUH2LwHE8"
      },
      "execution_count": null,
      "outputs": []
    },
    {
      "cell_type": "code",
      "execution_count": null,
      "metadata": {
        "id": "QzB9vfnTWqtp"
      },
      "outputs": [],
      "source": [
        "import random\n",
        "import time"
      ]
    },
    {
      "cell_type": "markdown",
      "source": [
        "##Round Selection"
      ],
      "metadata": {
        "id": "S9B3_sJSt6dT"
      }
    },
    {
      "cell_type": "code",
      "source": [
        "def get_rounds():\n",
        "    while True:\n",
        "        try:\n",
        "            rounds = int(input(\"\\nHow many rounds do you want to play? \"))\n",
        "            if rounds <= 0:\n",
        "                print(\"Please enter a positive number greater than 0.\")\n",
        "                continue\n",
        "            if rounds % 2 == 0:\n",
        "                print(\"Chosen number is even, adding +1 to make it odd.\")\n",
        "                rounds += 1\n",
        "            print(\"\\nNumber of rounds:\", rounds)\n",
        "            return rounds\n",
        "        except ValueError:\n",
        "            print(\"Invalid input! Please enter a valid number.\")"
      ],
      "metadata": {
        "id": "IpnroPQkkNXR"
      },
      "execution_count": null,
      "outputs": []
    },
    {
      "cell_type": "markdown",
      "source": [
        "###Computer Choice"
      ],
      "metadata": {
        "id": "V4DmEllMt3Br"
      }
    },
    {
      "cell_type": "code",
      "source": [
        "def comp_choice():\n",
        "  # choose from list\n",
        "  choice = random.choice(['rock', 'paper', 'scissors'])\n",
        "  return choice"
      ],
      "metadata": {
        "id": "DA2qU3Y_XkmN"
      },
      "execution_count": null,
      "outputs": []
    },
    {
      "cell_type": "markdown",
      "source": [
        "###User Choice"
      ],
      "metadata": {
        "id": "MvEMg7E6t0bL"
      }
    },
    {
      "cell_type": "code",
      "source": [
        "def user_choice():\n",
        "  print(\"Its your turn!!!!!!\")\n",
        "  user = input(\"\\nPlease enter a choice [rock, paper, scissors] or Q to Quit: \").lower()\n",
        "  while  user not in [\"rock\",\"paper\",\"scissors\",\"q\"]:\n",
        "    user= input(\"\\nInvalid choice. Enter [rock, paper, scissors] or Q to Quit: \")\n",
        "  return user"
      ],
      "metadata": {
        "id": "Kj4gvFZNX0tK"
      },
      "execution_count": null,
      "outputs": []
    },
    {
      "cell_type": "code",
      "source": [
        "user_choice()"
      ],
      "metadata": {
        "colab": {
          "base_uri": "https://localhost:8080/",
          "height": 73
        },
        "id": "iQ24KFoVQEPq",
        "outputId": "537f78fa-700c-4471-d923-c672c75cea08"
      },
      "execution_count": null,
      "outputs": [
        {
          "name": "stdout",
          "output_type": "stream",
          "text": [
            "Please enter a choice [rock, paper, scissors] or Q to Quit: s\n",
            "Invalid choice. Enter [rock, paper, scissors] or Q to Quit: rock\n"
          ]
        },
        {
          "output_type": "execute_result",
          "data": {
            "text/plain": [
              "'rock'"
            ],
            "application/vnd.google.colaboratory.intrinsic+json": {
              "type": "string"
            }
          },
          "metadata": {},
          "execution_count": 18
        }
      ]
    },
    {
      "cell_type": "markdown",
      "source": [
        "###determine winner"
      ],
      "metadata": {
        "id": "Lou3bixptxl2"
      }
    },
    {
      "cell_type": "code",
      "source": [
        "def determine_winner( user_choice,comp):\n",
        "  ###determine winner\n",
        "  if user_choice == comp:\n",
        "    return \"It's a tie\"\n",
        "  elif (user_choice == \"rock\" and comp == \"scissors\") or \\\n",
        "       (user_choice == \"paper\" and comp == \"rock\") or \\\n",
        "       (user_choice == \"scissors\" and comp == \"paper\"):\n",
        "    return \"\\n!!!!!!!!!You win this round!\"\n",
        "  else:\n",
        "    return \"\\n!!!!!!!!!Computer wins this round!\""
      ],
      "metadata": {
        "id": "985O05tVX1cf"
      },
      "execution_count": null,
      "outputs": []
    },
    {
      "cell_type": "markdown",
      "source": [
        "#Main game function"
      ],
      "metadata": {
        "id": "zh7B4nxXts5b"
      }
    },
    {
      "cell_type": "code",
      "source": [
        "def play_game():\n",
        "    total_rounds = get_rounds()\n",
        "    user_score = 0\n",
        "    comp_score = 0\n",
        "    round_num = 1\n",
        "\n",
        "    while round_num <= total_rounds:\n",
        "        print(f\"\\n--- Round {round_num} ---\")\n",
        "        user = user_choice()\n",
        "        if user == 'q':\n",
        "            print(\"\\nGame exited early. Thanks for playing!\")\n",
        "            break\n",
        "\n",
        "        # Animation before computer chooses\n",
        "        print(\"Its my Turn!!!!!\")\n",
        "        print(\"Rock...\")\n",
        "        time.sleep(0.4)\n",
        "        print(\"Paper...\")\n",
        "        time.sleep(0.4)\n",
        "        print(\"Scissors...\")\n",
        "        time.sleep(0.4)\n",
        "        print(\"Shoot!\")\n",
        "        time.sleep(0.3)\n",
        "\n",
        "        comp = comp_choice()\n",
        "        print(f\"You chose: {user}\")\n",
        "        print(f\"Computer chose: {comp}\")\n",
        "        result = determine_winner(user, comp)\n",
        "        print(result)\n",
        "\n",
        "        # Update score\n",
        "        if \"You win\" in result:\n",
        "            user_score += 1\n",
        "        elif \"Computer wins\" in result:\n",
        "            comp_score += 1\n",
        "\n",
        "        round_num += 1\n",
        "\n",
        "    # Final Score\n",
        "    print(\"\\n🎮 Game Over 🎮\")\n",
        "    print(f\"Your score: {user_score}\")\n",
        "    print(f\"Computer score: {comp_score}\")\n",
        "    if user_score > comp_score:\n",
        "        print(\"\\n🏆 You won the game!\",end=\"\")\n",
        "    elif user_score < comp_score:\n",
        "        print(\"\\n🤖 Computer won the game!\")\n",
        "    else:\n",
        "        print(\"\\nIt's a draw!\")\n"
      ],
      "metadata": {
        "id": "Wbj1DxEteCMe"
      },
      "execution_count": null,
      "outputs": []
    },
    {
      "cell_type": "markdown",
      "source": [
        "#Play here\n",
        "\n",
        "---\n",
        "\n"
      ],
      "metadata": {
        "id": "T5ZaByU_sm7W"
      }
    },
    {
      "cell_type": "code",
      "source": [
        "play_game()"
      ],
      "metadata": {
        "colab": {
          "base_uri": "https://localhost:8080/"
        },
        "id": "5ABaWfNwOPAq",
        "outputId": "45bc7c36-9a89-4a58-faeb-504bf9541f37"
      },
      "execution_count": null,
      "outputs": [
        {
          "output_type": "stream",
          "name": "stdout",
          "text": [
            "\n",
            "How many rounds do you want to play? 5\n",
            "\n",
            "Number of rounds: 5\n",
            "\n",
            "--- Round 1 ---\n",
            "Its your turn!!!!!!\n",
            "\n",
            "Please enter a choice [rock, paper, scissors] or Q to Quit: paper\n",
            "Its my Turn!!!!!\n",
            "Rock...\n",
            "Paper...\n",
            "Scissors...\n",
            "Shoot!\n",
            "You chose: paper\n",
            "Computer chose: rock\n",
            "\n",
            "!!!!!!!!!You win this round!\n",
            "\n",
            "--- Round 2 ---\n",
            "Its your turn!!!!!!\n",
            "\n",
            "Please enter a choice [rock, paper, scissors] or Q to Quit: scissors\n",
            "Its my Turn!!!!!\n",
            "Rock...\n",
            "Paper...\n",
            "Scissors...\n",
            "Shoot!\n",
            "You chose: scissors\n",
            "Computer chose: paper\n",
            "\n",
            "!!!!!!!!!You win this round!\n",
            "\n",
            "--- Round 3 ---\n",
            "Its your turn!!!!!!\n",
            "\n",
            "Please enter a choice [rock, paper, scissors] or Q to Quit: rock\n",
            "Its my Turn!!!!!\n",
            "Rock...\n",
            "Paper...\n",
            "Scissors...\n",
            "Shoot!\n",
            "You chose: rock\n",
            "Computer chose: scissors\n",
            "\n",
            "!!!!!!!!!You win this round!\n",
            "\n",
            "--- Round 4 ---\n",
            "Its your turn!!!!!!\n",
            "\n",
            "Please enter a choice [rock, paper, scissors] or Q to Quit: paper\n",
            "Its my Turn!!!!!\n",
            "Rock...\n",
            "Paper...\n",
            "Scissors...\n",
            "Shoot!\n",
            "You chose: paper\n",
            "Computer chose: scissors\n",
            "\n",
            "!!!!!!!!!Computer wins this round!\n",
            "\n",
            "--- Round 5 ---\n",
            "Its your turn!!!!!!\n",
            "\n",
            "Please enter a choice [rock, paper, scissors] or Q to Quit: scissors\n",
            "Its my Turn!!!!!\n",
            "Rock...\n",
            "Paper...\n",
            "Scissors...\n",
            "Shoot!\n",
            "You chose: scissors\n",
            "Computer chose: scissors\n",
            "It's a tie\n",
            "\n",
            "🎮 Game Over 🎮\n",
            "Your score: 3\n",
            "Computer score: 1\n",
            "\n",
            "🏆 You won the game!"
          ]
        }
      ]
    },
    {
      "cell_type": "markdown",
      "source": [
        "#simple one liner\n",
        "\n"
      ],
      "metadata": {
        "id": "8D_nCdQirpsi"
      }
    },
    {
      "cell_type": "code",
      "source": [
        "import random\n",
        "import time\n",
        "import sys\n",
        "\n",
        "def print_animated(text, delay=0.05):\n",
        "    for char in text:\n",
        "        print(char, end='', flush=True)\n",
        "        time.sleep(delay)\n",
        "    print()\n",
        "\n",
        "def loading_effect():\n",
        "    for word in ['Rock...', 'Paper...', 'Scissors...', 'Shoot!']:\n",
        "        print_animated(word, delay=0.1)\n",
        "        time.sleep(0.1)\n",
        "\n",
        "def get_rounds():\n",
        "    rounds = int(input(\"\\nHow many rounds do you want to play? \"))\n",
        "    if rounds % 2 == 0:\n",
        "        print(\"Even number chosen — adding +1 to make it best of odd rounds.\")\n",
        "        rounds += 1\n",
        "    return rounds\n",
        "\n",
        "def comp_choice():\n",
        "    return random.choice(['rock', 'paper', 'scissors'])\n",
        "\n",
        "def user_choice():\n",
        "    user = input(\"\\nEnter your choice [rock, paper, scissors] or Q to quit: \").lower()\n",
        "    while user not in ['rock', 'paper', 'scissors', 'q']:\n",
        "        user = input(\"Invalid choice. Enter [rock, paper, scissors] or Q to quit: \").lower()\n",
        "    return user\n",
        "\n",
        "def determine_winner(user, comp):\n",
        "    if user == comp:\n",
        "        return \"It's a tie!\"\n",
        "    elif (user == 'rock' and comp == 'scissors') or \\\n",
        "         (user == 'paper' and comp == 'rock') or \\\n",
        "         (user == 'scissors' and comp == 'paper'):\n",
        "        return \"🎉 You win this round!\"\n",
        "    else:\n",
        "        return \"🤖 Computer wins this round!\"\n",
        "\n",
        "def game():\n",
        "    total_rounds = get_rounds()\n",
        "    user_score = 0\n",
        "    comp_score = 0\n",
        "    round_num = 1\n",
        "\n",
        "    while round_num <= total_rounds:\n",
        "        print(f\"\\n🎲 Round {round_num} of {total_rounds}\")\n",
        "        user = user_choice()\n",
        "        if user == 'q':\n",
        "            print(\"\\nGame exited early. Thanks for playing!\")\n",
        "            break\n",
        "\n",
        "        loading_effect()\n",
        "        comp = comp_choice()\n",
        "        print_animated(f\"You chose: {user}\", delay=0.04)\n",
        "        print_animated(f\"Computer chose: {comp}\", delay=0.04)\n",
        "\n",
        "        result = determine_winner(user, comp)\n",
        "        print_animated(result, delay=0.06)\n",
        "\n",
        "        # Update score\n",
        "        if \"You win\" in result:\n",
        "            user_score += 1\n",
        "        elif \"Computer wins\" in result:\n",
        "            comp_score += 1\n",
        "\n",
        "        time.sleep(1)\n",
        "        round_num += 1\n",
        "\n",
        "    # Final Score\n",
        "    print(\"\\n🎮 Game Over 🎮\")\n",
        "    print(f\"Your score: {user_score}\")\n",
        "    print(f\"Computer score: {comp_score}\")\n",
        "    if user_score > comp_score:\n",
        "        print(\"🏆 You won the game!\")\n",
        "    elif user_score < comp_score:\n",
        "        print(\"🤖 Computer won the game!\")\n",
        "    else:\n",
        "        print(\"It's a draw!\")\n",
        "\n",
        "# Start the game\n",
        "game()"
      ],
      "metadata": {
        "colab": {
          "base_uri": "https://localhost:8080/"
        },
        "id": "8ZZXO5xFwBuF",
        "outputId": "b4bbed85-d986-4fb2-81ee-30f8818a32a3"
      },
      "execution_count": null,
      "outputs": [
        {
          "output_type": "stream",
          "name": "stdout",
          "text": [
            "\n",
            "How many rounds do you want to play? 1\n",
            "\n",
            "🎲 Round 1 of 1\n",
            "\n",
            "Enter your choice [rock, paper, scissors] or Q to quit: rock\n",
            "Rock...\n",
            "Paper...\n",
            "Scissors...\n",
            "Shoot!\n",
            "You chose: rock\n",
            "Computer chose: scissors\n",
            "🎉 You win this round!\n",
            "\n",
            "🎮 Game Over 🎮\n",
            "Your score: 1\n",
            "Computer score: 0\n",
            "🏆 You won the game!\n"
          ]
        }
      ]
    },
    {
      "cell_type": "code",
      "source": [
        "import random\n",
        "import time\n",
        "import sys\n",
        "\n",
        "def print_animated(text, delay=0.05):\n",
        "    for char in text:\n",
        "        print(char, end='', flush=True)\n",
        "        time.sleep(delay)\n",
        "    print()\n",
        "\n",
        "def loading_effect():\n",
        "    for word in ['Rock...', 'Paper...', 'Scissors...', 'Shoot!']:\n",
        "        print_animated(word, delay=0.1)\n",
        "        time.sleep(0.1)\n",
        "\n",
        "def get_rounds():\n",
        "    rounds = int(input(\"\\nHow many rounds do you want to play? \"))\n",
        "    if rounds % 2 == 0:\n",
        "        print(\"Even number chosen — adding +1 to make it best of odd rounds.\")\n",
        "        rounds += 1\n",
        "    return rounds\n",
        "\n",
        "def comp_choice():\n",
        "    return random.choice(['rock', 'paper', 'scissors'])\n",
        "\n",
        "def user_choice():\n",
        "    user = input(\"\\nEnter your choice [rock, paper, scissors] or Q to quit: \").lower()\n",
        "    while user not in ['rock', 'paper', 'scissors', 'q']:\n",
        "        user = input(\"Invalid choice. Enter [rock, paper, scissors] or Q to quit: \").lower()\n",
        "    return user\n",
        "\n",
        "def determine_winner(user, comp):\n",
        "    if user == comp:\n",
        "        return \"It's a tie!\"\n",
        "    elif (user == 'rock' and comp == 'scissors') or \\\n",
        "         (user == 'paper' and comp == 'rock') or \\\n",
        "         (user == 'scissors' and comp == 'paper'):\n",
        "        return \"🎉 You win this round!\"\n",
        "    else:\n",
        "        return \"🤖 Computer wins this round!\"\n",
        "\n",
        "def game():\n",
        "    total_rounds = get_rounds()\n",
        "    user_score = 0\n",
        "    comp_score = 0\n",
        "    round_num = 1\n",
        "\n",
        "    while round_num <= total_rounds:\n",
        "        print(f\"\\n🎲 Round {round_num} of {total_rounds}\")\n",
        "        user = user_choice()\n",
        "        if user == 'q':\n",
        "            print(\"\\nGame exited early. Thanks for playing!\")\n",
        "            break\n",
        "\n",
        "        loading_effect()\n",
        "        comp = comp_choice()\n",
        "        print_animated(f\"You chose: {user}\", delay=0.04)\n",
        "        print_animated(f\"Computer chose: {comp}\", delay=0.04)\n",
        "\n",
        "        result = determine_winner(user, comp)\n",
        "        print_animated(result, delay=0.06)\n",
        "\n",
        "        # Update score\n",
        "        if \"You win\" in result:\n",
        "            user_score += 1\n",
        "        elif \"Computer wins\" in result:\n",
        "            comp_score += 1\n",
        "\n",
        "        time.sleep(1)\n",
        "        round_num += 1\n",
        "\n",
        "    # Final Score\n",
        "    print(\"\\n🎮 Game Over 🎮\")\n",
        "    print(f\"Your score: {user_score}\")\n",
        "    print(f\"Computer score: {comp_score}\")\n",
        "    if user_score > comp_score:\n",
        "        print(\"🏆 You won the game!\")\n",
        "    elif user_score < comp_score:\n",
        "        print(\"🤖 Computer won the game!\")\n",
        "    else:\n",
        "        print(\"It's a draw!\")\n",
        "\n",
        "# Start the game\n",
        "game()\n"
      ],
      "metadata": {
        "colab": {
          "base_uri": "https://localhost:8080/",
          "height": 652
        },
        "id": "gCS_g_nmPbcA",
        "outputId": "a0fca139-e307-447c-eb4f-46e9da84649a"
      },
      "execution_count": null,
      "outputs": [
        {
          "output_type": "stream",
          "name": "stdout",
          "text": [
            "\n",
            "How many rounds do you want to play? 2\n",
            "Even number chosen — adding +1 to make it best of odd rounds.\n",
            "\n",
            "🎲 Round 1 of 3\n",
            "\n",
            "Enter your choice [rock, paper, scissors] or Q to quit: roc\n",
            "Invalid choice. Enter [rock, paper, scissors] or Q to quit: rock\n",
            "Rock...\n",
            "Paper...\n",
            "Scissors...\n",
            "Shoot!\n",
            "You chose: rock\n",
            "Computer chose: rock\n",
            "It's a tie!\n",
            "\n",
            "🎲 Round 2 of 3\n"
          ]
        },
        {
          "output_type": "error",
          "ename": "KeyboardInterrupt",
          "evalue": "Interrupted by user",
          "traceback": [
            "\u001b[0;31m---------------------------------------------------------------------------\u001b[0m",
            "\u001b[0;31mKeyboardInterrupt\u001b[0m                         Traceback (most recent call last)",
            "\u001b[0;32m<ipython-input-60-7769d6660a1a>\u001b[0m in \u001b[0;36m<cell line: 0>\u001b[0;34m()\u001b[0m\n\u001b[1;32m     82\u001b[0m \u001b[0;34m\u001b[0m\u001b[0m\n\u001b[1;32m     83\u001b[0m \u001b[0;31m# Start the game\u001b[0m\u001b[0;34m\u001b[0m\u001b[0;34m\u001b[0m\u001b[0m\n\u001b[0;32m---> 84\u001b[0;31m \u001b[0mgame\u001b[0m\u001b[0;34m(\u001b[0m\u001b[0;34m)\u001b[0m\u001b[0;34m\u001b[0m\u001b[0;34m\u001b[0m\u001b[0m\n\u001b[0m",
            "\u001b[0;32m<ipython-input-60-7769d6660a1a>\u001b[0m in \u001b[0;36mgame\u001b[0;34m()\u001b[0m\n\u001b[1;32m     48\u001b[0m     \u001b[0;32mwhile\u001b[0m \u001b[0mround_num\u001b[0m \u001b[0;34m<=\u001b[0m \u001b[0mtotal_rounds\u001b[0m\u001b[0;34m:\u001b[0m\u001b[0;34m\u001b[0m\u001b[0;34m\u001b[0m\u001b[0m\n\u001b[1;32m     49\u001b[0m         \u001b[0mprint\u001b[0m\u001b[0;34m(\u001b[0m\u001b[0;34mf\"\\n🎲 Round {round_num} of {total_rounds}\"\u001b[0m\u001b[0;34m)\u001b[0m\u001b[0;34m\u001b[0m\u001b[0;34m\u001b[0m\u001b[0m\n\u001b[0;32m---> 50\u001b[0;31m         \u001b[0muser\u001b[0m \u001b[0;34m=\u001b[0m \u001b[0muser_choice\u001b[0m\u001b[0;34m(\u001b[0m\u001b[0;34m)\u001b[0m\u001b[0;34m\u001b[0m\u001b[0;34m\u001b[0m\u001b[0m\n\u001b[0m\u001b[1;32m     51\u001b[0m         \u001b[0;32mif\u001b[0m \u001b[0muser\u001b[0m \u001b[0;34m==\u001b[0m \u001b[0;34m'q'\u001b[0m\u001b[0;34m:\u001b[0m\u001b[0;34m\u001b[0m\u001b[0;34m\u001b[0m\u001b[0m\n\u001b[1;32m     52\u001b[0m             \u001b[0mprint\u001b[0m\u001b[0;34m(\u001b[0m\u001b[0;34m\"\\nGame exited early. Thanks for playing!\"\u001b[0m\u001b[0;34m)\u001b[0m\u001b[0;34m\u001b[0m\u001b[0;34m\u001b[0m\u001b[0m\n",
            "\u001b[0;32m<ipython-input-60-7769d6660a1a>\u001b[0m in \u001b[0;36muser_choice\u001b[0;34m()\u001b[0m\n\u001b[1;32m     25\u001b[0m \u001b[0;34m\u001b[0m\u001b[0m\n\u001b[1;32m     26\u001b[0m \u001b[0;32mdef\u001b[0m \u001b[0muser_choice\u001b[0m\u001b[0;34m(\u001b[0m\u001b[0;34m)\u001b[0m\u001b[0;34m:\u001b[0m\u001b[0;34m\u001b[0m\u001b[0;34m\u001b[0m\u001b[0m\n\u001b[0;32m---> 27\u001b[0;31m     \u001b[0muser\u001b[0m \u001b[0;34m=\u001b[0m \u001b[0minput\u001b[0m\u001b[0;34m(\u001b[0m\u001b[0;34m\"\\nEnter your choice [rock, paper, scissors] or Q to quit: \"\u001b[0m\u001b[0;34m)\u001b[0m\u001b[0;34m.\u001b[0m\u001b[0mlower\u001b[0m\u001b[0;34m(\u001b[0m\u001b[0;34m)\u001b[0m\u001b[0;34m\u001b[0m\u001b[0;34m\u001b[0m\u001b[0m\n\u001b[0m\u001b[1;32m     28\u001b[0m     \u001b[0;32mwhile\u001b[0m \u001b[0muser\u001b[0m \u001b[0;32mnot\u001b[0m \u001b[0;32min\u001b[0m \u001b[0;34m[\u001b[0m\u001b[0;34m'rock'\u001b[0m\u001b[0;34m,\u001b[0m \u001b[0;34m'paper'\u001b[0m\u001b[0;34m,\u001b[0m \u001b[0;34m'scissors'\u001b[0m\u001b[0;34m,\u001b[0m \u001b[0;34m'q'\u001b[0m\u001b[0;34m]\u001b[0m\u001b[0;34m:\u001b[0m\u001b[0;34m\u001b[0m\u001b[0;34m\u001b[0m\u001b[0m\n\u001b[1;32m     29\u001b[0m         \u001b[0muser\u001b[0m \u001b[0;34m=\u001b[0m \u001b[0minput\u001b[0m\u001b[0;34m(\u001b[0m\u001b[0;34m\"Invalid choice. Enter [rock, paper, scissors] or Q to quit: \"\u001b[0m\u001b[0;34m)\u001b[0m\u001b[0;34m.\u001b[0m\u001b[0mlower\u001b[0m\u001b[0;34m(\u001b[0m\u001b[0;34m)\u001b[0m\u001b[0;34m\u001b[0m\u001b[0;34m\u001b[0m\u001b[0m\n",
            "\u001b[0;32m/usr/local/lib/python3.11/dist-packages/ipykernel/kernelbase.py\u001b[0m in \u001b[0;36mraw_input\u001b[0;34m(self, prompt)\u001b[0m\n\u001b[1;32m   1175\u001b[0m                 \u001b[0;34m\"raw_input was called, but this frontend does not support input requests.\"\u001b[0m\u001b[0;34m\u001b[0m\u001b[0;34m\u001b[0m\u001b[0m\n\u001b[1;32m   1176\u001b[0m             )\n\u001b[0;32m-> 1177\u001b[0;31m         return self._input_request(\n\u001b[0m\u001b[1;32m   1178\u001b[0m             \u001b[0mstr\u001b[0m\u001b[0;34m(\u001b[0m\u001b[0mprompt\u001b[0m\u001b[0;34m)\u001b[0m\u001b[0;34m,\u001b[0m\u001b[0;34m\u001b[0m\u001b[0;34m\u001b[0m\u001b[0m\n\u001b[1;32m   1179\u001b[0m             \u001b[0mself\u001b[0m\u001b[0;34m.\u001b[0m\u001b[0m_parent_ident\u001b[0m\u001b[0;34m[\u001b[0m\u001b[0;34m\"shell\"\u001b[0m\u001b[0;34m]\u001b[0m\u001b[0;34m,\u001b[0m\u001b[0;34m\u001b[0m\u001b[0;34m\u001b[0m\u001b[0m\n",
            "\u001b[0;32m/usr/local/lib/python3.11/dist-packages/ipykernel/kernelbase.py\u001b[0m in \u001b[0;36m_input_request\u001b[0;34m(self, prompt, ident, parent, password)\u001b[0m\n\u001b[1;32m   1217\u001b[0m             \u001b[0;32mexcept\u001b[0m \u001b[0mKeyboardInterrupt\u001b[0m\u001b[0;34m:\u001b[0m\u001b[0;34m\u001b[0m\u001b[0;34m\u001b[0m\u001b[0m\n\u001b[1;32m   1218\u001b[0m                 \u001b[0;31m# re-raise KeyboardInterrupt, to truncate traceback\u001b[0m\u001b[0;34m\u001b[0m\u001b[0;34m\u001b[0m\u001b[0m\n\u001b[0;32m-> 1219\u001b[0;31m                 \u001b[0;32mraise\u001b[0m \u001b[0mKeyboardInterrupt\u001b[0m\u001b[0;34m(\u001b[0m\u001b[0;34m\"Interrupted by user\"\u001b[0m\u001b[0;34m)\u001b[0m \u001b[0;32mfrom\u001b[0m \u001b[0;32mNone\u001b[0m\u001b[0;34m\u001b[0m\u001b[0;34m\u001b[0m\u001b[0m\n\u001b[0m\u001b[1;32m   1220\u001b[0m             \u001b[0;32mexcept\u001b[0m \u001b[0mException\u001b[0m\u001b[0;34m:\u001b[0m\u001b[0;34m\u001b[0m\u001b[0;34m\u001b[0m\u001b[0m\n\u001b[1;32m   1221\u001b[0m                 \u001b[0mself\u001b[0m\u001b[0;34m.\u001b[0m\u001b[0mlog\u001b[0m\u001b[0;34m.\u001b[0m\u001b[0mwarning\u001b[0m\u001b[0;34m(\u001b[0m\u001b[0;34m\"Invalid Message:\"\u001b[0m\u001b[0;34m,\u001b[0m \u001b[0mexc_info\u001b[0m\u001b[0;34m=\u001b[0m\u001b[0;32mTrue\u001b[0m\u001b[0;34m)\u001b[0m\u001b[0;34m\u001b[0m\u001b[0;34m\u001b[0m\u001b[0m\n",
            "\u001b[0;31mKeyboardInterrupt\u001b[0m: Interrupted by user"
          ]
        }
      ]
    },
    {
      "cell_type": "code",
      "source": [],
      "metadata": {
        "id": "wQ_TDxwsnh1V"
      },
      "execution_count": null,
      "outputs": []
    },
    {
      "cell_type": "markdown",
      "source": [
        "#Mode Selection"
      ],
      "metadata": {
        "id": "5PmfEGgwuo7e"
      }
    },
    {
      "cell_type": "code",
      "source": [
        "def choose_level():\n",
        "    while True:\n",
        "        level = input(\"\\nChoose difficulty [easy, normal, hard]: \").lower()\n",
        "        if level in ['easy', 'normal', 'hard']:\n",
        "            return level\n",
        "        else:\n",
        "            print(\"Invalid input! Please choose from easy, normal, hard.\")\n"
      ],
      "metadata": {
        "id": "FSYeZAffvMfN"
      },
      "execution_count": null,
      "outputs": []
    },
    {
      "cell_type": "code",
      "source": [
        "def comp_choice(level, user=None):\n",
        "    if level == 'easy':\n",
        "        return random.choice(['rock', 'paper', 'scissors'])\n",
        "\n",
        "    elif level == 'normal':\n",
        "        # 50% chance to counter user, 50% random\n",
        "        if random.random() < 0.5 and user:\n",
        "            return counter_move(user)\n",
        "        else:\n",
        "            return random.choice(['rock', 'paper', 'scissors'])\n",
        "\n",
        "    elif level == 'hard' and user:\n",
        "        # 80% chance to counter user's move\n",
        "        if random.random() < 0.8:\n",
        "            return counter_move(user)\n",
        "        else:\n",
        "            return random.choice(['rock', 'paper', 'scissors'])\n",
        "\n",
        "def counter_move(user_move):\n",
        "    # returns move that beats the user\n",
        "    beats = {'rock': 'paper', 'paper': 'scissors', 'scissors': 'rock'}\n",
        "    return beats.get(user_move, random.choice(['rock', 'paper', 'scissors']))\n"
      ],
      "metadata": {
        "id": "xPbGqSUburs2"
      },
      "execution_count": null,
      "outputs": []
    },
    {
      "cell_type": "code",
      "source": [
        "def play_game_():\n",
        "    level = choose_level()\n",
        "    total_rounds = get_rounds()\n",
        "    user_score = 0\n",
        "    comp_score = 0\n",
        "    round_num = 1\n",
        "\n",
        "    while round_num <= total_rounds:\n",
        "        print(f\"\\n--- Round {round_num} ---\")\n",
        "        user = user_choice()\n",
        "        if user == 'q':\n",
        "            print(\"\\nGame exited early. Thanks for playing!\")\n",
        "            break\n",
        "\n",
        "        # Animation\n",
        "        print(\"Rock...\")\n",
        "        time.sleep(0.4)\n",
        "        print(\"Paper...\")\n",
        "        time.sleep(0.4)\n",
        "        print(\"Scissors...\")\n",
        "        time.sleep(0.4)\n",
        "        print(\"Shoot!\")\n",
        "        time.sleep(0.3)\n",
        "\n",
        "        comp = comp_choice(level, user)\n",
        "        print(f\"You chose: {user}\")\n",
        "        print(f\"Computer chose: {comp}\")\n",
        "        result = determine_winner(user, comp)\n",
        "        print(result)\n",
        "\n",
        "        # Update score\n",
        "        if \"You win\" in result:\n",
        "            user_score += 1\n",
        "        elif \"Computer wins\" in result:\n",
        "            comp_score += 1\n",
        "\n",
        "        round_num += 1\n",
        "\n",
        "    # Final Score\n",
        "    print(\"\\n🎮 Game Over 🎮\")\n",
        "    print(f\"Your score: {user_score}\")\n",
        "    print(f\"Computer score: {comp_score}\")\n",
        "    if user_score > comp_score:\n",
        "        print(\"🏆 You won the game!\")\n",
        "    elif user_score < comp_score:\n",
        "        print(\"🤖 Computer won the game!\")\n",
        "    else:\n",
        "        print(\"It's a draw!\")\n"
      ],
      "metadata": {
        "id": "I4Jm0DP9u2R6"
      },
      "execution_count": null,
      "outputs": []
    },
    {
      "cell_type": "code",
      "source": [
        "play_game_()"
      ],
      "metadata": {
        "colab": {
          "base_uri": "https://localhost:8080/"
        },
        "id": "0twBxblVu5Gi",
        "outputId": "ee9454e8-271a-45a6-cb38-1ace6811d656"
      },
      "execution_count": null,
      "outputs": [
        {
          "output_type": "stream",
          "name": "stdout",
          "text": [
            "\n",
            "Choose difficulty [easy, normal, hard]: hard\n",
            "\n",
            "How many rounds do you want to play? 3\n",
            "\n",
            "Number of rounds: 3\n",
            "\n",
            "--- Round 1 ---\n",
            "Its your turn!!!!!!\n",
            "\n",
            "Please enter a choice [rock, paper, scissors] or Q to Quit: paper\n",
            "Rock...\n",
            "Paper...\n",
            "Scissors...\n",
            "Shoot!\n",
            "You chose: paper\n",
            "Computer chose: scissors\n",
            "\n",
            "!!!!!!!!!Computer wins this round!\n",
            "\n",
            "--- Round 2 ---\n",
            "Its your turn!!!!!!\n",
            "\n",
            "Please enter a choice [rock, paper, scissors] or Q to Quit: rock\n",
            "Rock...\n",
            "Paper...\n",
            "Scissors...\n",
            "Shoot!\n",
            "You chose: rock\n",
            "Computer chose: paper\n",
            "\n",
            "!!!!!!!!!Computer wins this round!\n",
            "\n",
            "--- Round 3 ---\n",
            "Its your turn!!!!!!\n",
            "\n",
            "Please enter a choice [rock, paper, scissors] or Q to Quit: rock\n",
            "Rock...\n",
            "Paper...\n",
            "Scissors...\n",
            "Shoot!\n",
            "You chose: rock\n",
            "Computer chose: rock\n",
            "It's a tie\n",
            "\n",
            "🎮 Game Over 🎮\n",
            "Your score: 0\n",
            "Computer score: 2\n",
            "🤖 Computer won the game!\n"
          ]
        }
      ]
    },
    {
      "cell_type": "code",
      "source": [],
      "metadata": {
        "id": "k-0FRC8eu6jd"
      },
      "execution_count": null,
      "outputs": []
    }
  ]
}